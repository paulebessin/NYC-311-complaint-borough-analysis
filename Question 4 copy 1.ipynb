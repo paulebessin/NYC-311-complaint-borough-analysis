{
 "cells": [
  {
   "cell_type": "markdown",
   "metadata": {},
   "source": [
    "## Predict Complaint Types\n",
    "\n",
    "Can a predictive model be built for a future prediction of the possibility of complaints of the type that you have identified in response to question 1?"
   ]
  },
  {
   "cell_type": "code",
   "execution_count": 5,
   "metadata": {
    "_cell_guid": "b1076dfc-b9ad-4769-8c92-a6c4dae69d19",
    "_uuid": "8f2839f25d086af736a60e9eeb907d3b93b6e0e5"
   },
   "outputs": [],
   "source": [
    "import numpy as np\n",
    "import pandas as pd "
   ]
  },
  {
   "cell_type": "markdown",
   "metadata": {},
   "source": [
    "## 1. Read Datasets\n",
    "      1. Read Complaints dataset \n",
    "      2. Filter out complaint dataset to specific complaint (HEAT/HOT WATER)\n",
    "      3. Read Broonx(Pluto) dataset\n",
    "      4. Filterout relevant columns \n",
    "      "
   ]
  },
  {
   "cell_type": "markdown",
   "metadata": {},
   "source": [
    "### 1.1 Read Complaints dataset "
   ]
  },
  {
   "cell_type": "code",
   "execution_count": 6,
   "metadata": {
    "_cell_guid": "79c7e3d0-c299-4dcb-8224-4455121ee9b0",
    "_uuid": "d629ff2d2480ee46fbb7e2d37f6b5fab8052498a"
   },
   "outputs": [
    {
     "data": {
      "text/html": [
       "<div>\n",
       "<style scoped>\n",
       "    .dataframe tbody tr th:only-of-type {\n",
       "        vertical-align: middle;\n",
       "    }\n",
       "\n",
       "    .dataframe tbody tr th {\n",
       "        vertical-align: top;\n",
       "    }\n",
       "\n",
       "    .dataframe thead th {\n",
       "        text-align: right;\n",
       "    }\n",
       "</style>\n",
       "<table border=\"1\" class=\"dataframe\">\n",
       "  <thead>\n",
       "    <tr style=\"text-align: right;\">\n",
       "      <th></th>\n",
       "      <th>created_date</th>\n",
       "      <th>unique_key</th>\n",
       "      <th>complaint_type</th>\n",
       "      <th>incident_zip</th>\n",
       "      <th>incident_address</th>\n",
       "      <th>street_name</th>\n",
       "      <th>address_type</th>\n",
       "      <th>city</th>\n",
       "      <th>resolution_description</th>\n",
       "      <th>borough</th>\n",
       "      <th>latitude</th>\n",
       "      <th>longitude</th>\n",
       "      <th>closed_date</th>\n",
       "      <th>location_type</th>\n",
       "      <th>status</th>\n",
       "    </tr>\n",
       "  </thead>\n",
       "  <tbody>\n",
       "    <tr>\n",
       "      <th>0</th>\n",
       "      <td>2019-12-06T06:17:35.000</td>\n",
       "      <td>45098297</td>\n",
       "      <td>UNSANITARY CONDITION</td>\n",
       "      <td>11207.0</td>\n",
       "      <td>510 RIVERDALE AVENUE</td>\n",
       "      <td>RIVERDALE AVENUE</td>\n",
       "      <td>ADDRESS</td>\n",
       "      <td>BROOKLYN</td>\n",
       "      <td>The following complaint conditions are still o...</td>\n",
       "      <td>BROOKLYN</td>\n",
       "      <td>40.662633</td>\n",
       "      <td>-73.897584</td>\n",
       "      <td>NaN</td>\n",
       "      <td>RESIDENTIAL BUILDING</td>\n",
       "      <td>Open</td>\n",
       "    </tr>\n",
       "    <tr>\n",
       "      <th>1</th>\n",
       "      <td>2019-12-06T03:21:57.000</td>\n",
       "      <td>45098170</td>\n",
       "      <td>PAINT/PLASTER</td>\n",
       "      <td>10467.0</td>\n",
       "      <td>3857 WHITE PLAINS ROAD</td>\n",
       "      <td>WHITE PLAINS ROAD</td>\n",
       "      <td>ADDRESS</td>\n",
       "      <td>BRONX</td>\n",
       "      <td>The Department of Housing Preservation and Dev...</td>\n",
       "      <td>BRONX</td>\n",
       "      <td>40.885136</td>\n",
       "      <td>-73.861955</td>\n",
       "      <td>NaN</td>\n",
       "      <td>RESIDENTIAL BUILDING</td>\n",
       "      <td>Open</td>\n",
       "    </tr>\n",
       "    <tr>\n",
       "      <th>2</th>\n",
       "      <td>2019-12-06T08:34:41.000</td>\n",
       "      <td>45098092</td>\n",
       "      <td>HEAT/HOT WATER</td>\n",
       "      <td>10031.0</td>\n",
       "      <td>3351 BROADWAY</td>\n",
       "      <td>BROADWAY</td>\n",
       "      <td>ADDRESS</td>\n",
       "      <td>NEW YORK</td>\n",
       "      <td>The Department of Housing Preservation and Dev...</td>\n",
       "      <td>MANHATTAN</td>\n",
       "      <td>40.820463</td>\n",
       "      <td>-73.954820</td>\n",
       "      <td>2019-12-06T08:54:07.000</td>\n",
       "      <td>RESIDENTIAL BUILDING</td>\n",
       "      <td>Closed</td>\n",
       "    </tr>\n",
       "    <tr>\n",
       "      <th>3</th>\n",
       "      <td>2019-12-06T07:22:19.000</td>\n",
       "      <td>45097989</td>\n",
       "      <td>GENERAL</td>\n",
       "      <td>11216.0</td>\n",
       "      <td>586 LINCOLN PLACE</td>\n",
       "      <td>LINCOLN PLACE</td>\n",
       "      <td>ADDRESS</td>\n",
       "      <td>BROOKLYN</td>\n",
       "      <td>The following complaint conditions are still o...</td>\n",
       "      <td>BROOKLYN</td>\n",
       "      <td>40.671418</td>\n",
       "      <td>-73.957127</td>\n",
       "      <td>NaN</td>\n",
       "      <td>RESIDENTIAL BUILDING</td>\n",
       "      <td>Open</td>\n",
       "    </tr>\n",
       "    <tr>\n",
       "      <th>4</th>\n",
       "      <td>2019-12-06T03:09:33.000</td>\n",
       "      <td>45097981</td>\n",
       "      <td>HEAT/HOT WATER</td>\n",
       "      <td>10467.0</td>\n",
       "      <td>3857 WHITE PLAINS ROAD</td>\n",
       "      <td>WHITE PLAINS ROAD</td>\n",
       "      <td>ADDRESS</td>\n",
       "      <td>BRONX</td>\n",
       "      <td>The Department of Housing Preservation and Dev...</td>\n",
       "      <td>BRONX</td>\n",
       "      <td>40.885136</td>\n",
       "      <td>-73.861955</td>\n",
       "      <td>2019-12-07T18:42:35.000</td>\n",
       "      <td>RESIDENTIAL BUILDING</td>\n",
       "      <td>Closed</td>\n",
       "    </tr>\n",
       "  </tbody>\n",
       "</table>\n",
       "</div>"
      ],
      "text/plain": [
       "              created_date  unique_key        complaint_type  incident_zip  \\\n",
       "0  2019-12-06T06:17:35.000    45098297  UNSANITARY CONDITION       11207.0   \n",
       "1  2019-12-06T03:21:57.000    45098170         PAINT/PLASTER       10467.0   \n",
       "2  2019-12-06T08:34:41.000    45098092        HEAT/HOT WATER       10031.0   \n",
       "3  2019-12-06T07:22:19.000    45097989               GENERAL       11216.0   \n",
       "4  2019-12-06T03:09:33.000    45097981        HEAT/HOT WATER       10467.0   \n",
       "\n",
       "         incident_address        street_name address_type      city  \\\n",
       "0    510 RIVERDALE AVENUE   RIVERDALE AVENUE      ADDRESS  BROOKLYN   \n",
       "1  3857 WHITE PLAINS ROAD  WHITE PLAINS ROAD      ADDRESS     BRONX   \n",
       "2           3351 BROADWAY           BROADWAY      ADDRESS  NEW YORK   \n",
       "3       586 LINCOLN PLACE      LINCOLN PLACE      ADDRESS  BROOKLYN   \n",
       "4  3857 WHITE PLAINS ROAD  WHITE PLAINS ROAD      ADDRESS     BRONX   \n",
       "\n",
       "                              resolution_description    borough   latitude  \\\n",
       "0  The following complaint conditions are still o...   BROOKLYN  40.662633   \n",
       "1  The Department of Housing Preservation and Dev...      BRONX  40.885136   \n",
       "2  The Department of Housing Preservation and Dev...  MANHATTAN  40.820463   \n",
       "3  The following complaint conditions are still o...   BROOKLYN  40.671418   \n",
       "4  The Department of Housing Preservation and Dev...      BRONX  40.885136   \n",
       "\n",
       "   longitude              closed_date         location_type  status  \n",
       "0 -73.897584                      NaN  RESIDENTIAL BUILDING    Open  \n",
       "1 -73.861955                      NaN  RESIDENTIAL BUILDING    Open  \n",
       "2 -73.954820  2019-12-06T08:54:07.000  RESIDENTIAL BUILDING  Closed  \n",
       "3 -73.957127                      NaN  RESIDENTIAL BUILDING    Open  \n",
       "4 -73.861955  2019-12-07T18:42:35.000  RESIDENTIAL BUILDING  Closed  "
      ]
     },
     "execution_count": 6,
     "metadata": {},
     "output_type": "execute_result"
    }
   ],
   "source": [
    "url=\"https://data.cityofnewyork.us/resource/erm2-nwe9.csv?$limit=100000000&Agency=HPD&$select=created_date,unique_key,complaint_type,incident_zip,incident_address,street_name,address_type,city,resolution_description,borough,latitude,longitude,closed_date,location_type,status\"\n",
    "df_raw = pd.read_csv(url, parse_dates=True)\n",
    "df_raw.head()"
   ]
  },
  {
   "cell_type": "markdown",
   "metadata": {},
   "source": [
    "###     1.2 Filter out complaint dataset to specific complaint and borough"
   ]
  },
  {
   "cell_type": "code",
   "execution_count": 7,
   "metadata": {},
   "outputs": [
    {
     "data": {
      "text/html": [
       "<div>\n",
       "<style scoped>\n",
       "    .dataframe tbody tr th:only-of-type {\n",
       "        vertical-align: middle;\n",
       "    }\n",
       "\n",
       "    .dataframe tbody tr th {\n",
       "        vertical-align: top;\n",
       "    }\n",
       "\n",
       "    .dataframe thead th {\n",
       "        text-align: right;\n",
       "    }\n",
       "</style>\n",
       "<table border=\"1\" class=\"dataframe\">\n",
       "  <thead>\n",
       "    <tr style=\"text-align: right;\">\n",
       "      <th></th>\n",
       "      <th>created_date</th>\n",
       "      <th>unique_key</th>\n",
       "      <th>complaint_type</th>\n",
       "      <th>incident_zip</th>\n",
       "      <th>incident_address</th>\n",
       "      <th>street_name</th>\n",
       "      <th>address_type</th>\n",
       "      <th>city</th>\n",
       "      <th>resolution_description</th>\n",
       "      <th>borough</th>\n",
       "      <th>latitude</th>\n",
       "      <th>longitude</th>\n",
       "      <th>closed_date</th>\n",
       "      <th>location_type</th>\n",
       "      <th>status</th>\n",
       "    </tr>\n",
       "  </thead>\n",
       "  <tbody>\n",
       "    <tr>\n",
       "      <th>4</th>\n",
       "      <td>2019-12-06T03:09:33.000</td>\n",
       "      <td>45097981</td>\n",
       "      <td>HEAT/HOT WATER</td>\n",
       "      <td>10467.0</td>\n",
       "      <td>3857 WHITE PLAINS ROAD</td>\n",
       "      <td>WHITE PLAINS ROAD</td>\n",
       "      <td>ADDRESS</td>\n",
       "      <td>BRONX</td>\n",
       "      <td>The Department of Housing Preservation and Dev...</td>\n",
       "      <td>BRONX</td>\n",
       "      <td>40.885136</td>\n",
       "      <td>-73.861955</td>\n",
       "      <td>2019-12-07T18:42:35.000</td>\n",
       "      <td>RESIDENTIAL BUILDING</td>\n",
       "      <td>Closed</td>\n",
       "    </tr>\n",
       "    <tr>\n",
       "      <th>12</th>\n",
       "      <td>2019-12-06T07:53:41.000</td>\n",
       "      <td>45096211</td>\n",
       "      <td>HEAT/HOT WATER</td>\n",
       "      <td>10456.0</td>\n",
       "      <td>256 EAST  166 STREET</td>\n",
       "      <td>EAST  166 STREET</td>\n",
       "      <td>ADDRESS</td>\n",
       "      <td>BRONX</td>\n",
       "      <td>The complaint you filed is a duplicate of a co...</td>\n",
       "      <td>BRONX</td>\n",
       "      <td>40.830670</td>\n",
       "      <td>-73.916123</td>\n",
       "      <td>2019-12-07T17:50:14.000</td>\n",
       "      <td>RESIDENTIAL BUILDING</td>\n",
       "      <td>Closed</td>\n",
       "    </tr>\n",
       "    <tr>\n",
       "      <th>37</th>\n",
       "      <td>2019-12-05T14:03:00.000</td>\n",
       "      <td>45094945</td>\n",
       "      <td>HEAT/HOT WATER</td>\n",
       "      <td>10455.0</td>\n",
       "      <td>729 UNION AVENUE</td>\n",
       "      <td>UNION AVENUE</td>\n",
       "      <td>ADDRESS</td>\n",
       "      <td>BRONX</td>\n",
       "      <td>The Department of Housing Preservation and Dev...</td>\n",
       "      <td>BRONX</td>\n",
       "      <td>40.817256</td>\n",
       "      <td>-73.903715</td>\n",
       "      <td>2019-12-08T02:08:36.000</td>\n",
       "      <td>RESIDENTIAL BUILDING</td>\n",
       "      <td>Closed</td>\n",
       "    </tr>\n",
       "    <tr>\n",
       "      <th>40</th>\n",
       "      <td>2019-12-05T20:47:13.000</td>\n",
       "      <td>45094857</td>\n",
       "      <td>HEAT/HOT WATER</td>\n",
       "      <td>10472.0</td>\n",
       "      <td>1403 ROSEDALE AVENUE</td>\n",
       "      <td>ROSEDALE AVENUE</td>\n",
       "      <td>ADDRESS</td>\n",
       "      <td>BRONX</td>\n",
       "      <td>The Department of Housing Preservation and Dev...</td>\n",
       "      <td>BRONX</td>\n",
       "      <td>40.834937</td>\n",
       "      <td>-73.869966</td>\n",
       "      <td>2019-12-07T18:31:17.000</td>\n",
       "      <td>RESIDENTIAL BUILDING</td>\n",
       "      <td>Closed</td>\n",
       "    </tr>\n",
       "    <tr>\n",
       "      <th>93</th>\n",
       "      <td>2019-12-05T10:07:47.000</td>\n",
       "      <td>45092709</td>\n",
       "      <td>HEAT/HOT WATER</td>\n",
       "      <td>10460.0</td>\n",
       "      <td>1892 DALY AVENUE</td>\n",
       "      <td>DALY AVENUE</td>\n",
       "      <td>ADDRESS</td>\n",
       "      <td>BRONX</td>\n",
       "      <td>The Department of Housing Preservation and Dev...</td>\n",
       "      <td>BRONX</td>\n",
       "      <td>40.840277</td>\n",
       "      <td>-73.884813</td>\n",
       "      <td>2019-12-06T15:50:27.000</td>\n",
       "      <td>RESIDENTIAL BUILDING</td>\n",
       "      <td>Closed</td>\n",
       "    </tr>\n",
       "  </tbody>\n",
       "</table>\n",
       "</div>"
      ],
      "text/plain": [
       "               created_date  unique_key  complaint_type  incident_zip  \\\n",
       "4   2019-12-06T03:09:33.000    45097981  HEAT/HOT WATER       10467.0   \n",
       "12  2019-12-06T07:53:41.000    45096211  HEAT/HOT WATER       10456.0   \n",
       "37  2019-12-05T14:03:00.000    45094945  HEAT/HOT WATER       10455.0   \n",
       "40  2019-12-05T20:47:13.000    45094857  HEAT/HOT WATER       10472.0   \n",
       "93  2019-12-05T10:07:47.000    45092709  HEAT/HOT WATER       10460.0   \n",
       "\n",
       "          incident_address        street_name address_type   city  \\\n",
       "4   3857 WHITE PLAINS ROAD  WHITE PLAINS ROAD      ADDRESS  BRONX   \n",
       "12    256 EAST  166 STREET   EAST  166 STREET      ADDRESS  BRONX   \n",
       "37        729 UNION AVENUE       UNION AVENUE      ADDRESS  BRONX   \n",
       "40    1403 ROSEDALE AVENUE    ROSEDALE AVENUE      ADDRESS  BRONX   \n",
       "93        1892 DALY AVENUE        DALY AVENUE      ADDRESS  BRONX   \n",
       "\n",
       "                               resolution_description borough   latitude  \\\n",
       "4   The Department of Housing Preservation and Dev...   BRONX  40.885136   \n",
       "12  The complaint you filed is a duplicate of a co...   BRONX  40.830670   \n",
       "37  The Department of Housing Preservation and Dev...   BRONX  40.817256   \n",
       "40  The Department of Housing Preservation and Dev...   BRONX  40.834937   \n",
       "93  The Department of Housing Preservation and Dev...   BRONX  40.840277   \n",
       "\n",
       "    longitude              closed_date         location_type  status  \n",
       "4  -73.861955  2019-12-07T18:42:35.000  RESIDENTIAL BUILDING  Closed  \n",
       "12 -73.916123  2019-12-07T17:50:14.000  RESIDENTIAL BUILDING  Closed  \n",
       "37 -73.903715  2019-12-08T02:08:36.000  RESIDENTIAL BUILDING  Closed  \n",
       "40 -73.869966  2019-12-07T18:31:17.000  RESIDENTIAL BUILDING  Closed  \n",
       "93 -73.884813  2019-12-06T15:50:27.000  RESIDENTIAL BUILDING  Closed  "
      ]
     },
     "execution_count": 7,
     "metadata": {},
     "output_type": "execute_result"
    }
   ],
   "source": [
    "df_heat  = df_raw[(df_raw['borough'] == 'BRONX') & (df_raw['complaint_type'] == 'HEAT/HOT WATER')]\n",
    "df_heat.head()"
   ]
  },
  {
   "cell_type": "markdown",
   "metadata": {},
   "source": [
    "###   1.3 Read Bronx (Pluto) dataset\n"
   ]
  },
  {
   "cell_type": "code",
   "execution_count": 8,
   "metadata": {
    "_cell_guid": "",
    "_uuid": ""
   },
   "outputs": [
    {
     "name": "stderr",
     "output_type": "stream",
     "text": [
      "/opt/conda/envs/Python36/lib/python3.6/site-packages/IPython/core/interactiveshell.py:3020: DtypeWarning: Columns (19,20,22,23,64,65,80) have mixed types. Specify dtype option on import or set low_memory=False.\n",
      "  interactivity=interactivity, compiler=compiler, result=result)\n"
     ]
    },
    {
     "data": {
      "text/html": [
       "<div>\n",
       "<style scoped>\n",
       "    .dataframe tbody tr th:only-of-type {\n",
       "        vertical-align: middle;\n",
       "    }\n",
       "\n",
       "    .dataframe tbody tr th {\n",
       "        vertical-align: top;\n",
       "    }\n",
       "\n",
       "    .dataframe thead th {\n",
       "        text-align: right;\n",
       "    }\n",
       "</style>\n",
       "<table border=\"1\" class=\"dataframe\">\n",
       "  <thead>\n",
       "    <tr style=\"text-align: right;\">\n",
       "      <th></th>\n",
       "      <th>Borough</th>\n",
       "      <th>Block</th>\n",
       "      <th>Lot</th>\n",
       "      <th>CD</th>\n",
       "      <th>CT2010</th>\n",
       "      <th>CB2010</th>\n",
       "      <th>SchoolDist</th>\n",
       "      <th>Council</th>\n",
       "      <th>ZipCode</th>\n",
       "      <th>FireComp</th>\n",
       "      <th>...</th>\n",
       "      <th>ZMCode</th>\n",
       "      <th>Sanborn</th>\n",
       "      <th>TaxMap</th>\n",
       "      <th>EDesigNum</th>\n",
       "      <th>APPBBL</th>\n",
       "      <th>APPDate</th>\n",
       "      <th>PLUTOMapID</th>\n",
       "      <th>FIRM07_FLAG</th>\n",
       "      <th>PFIRM15_FLAG</th>\n",
       "      <th>Version</th>\n",
       "    </tr>\n",
       "  </thead>\n",
       "  <tbody>\n",
       "    <tr>\n",
       "      <th>0</th>\n",
       "      <td>BX</td>\n",
       "      <td>2260</td>\n",
       "      <td>1</td>\n",
       "      <td>201</td>\n",
       "      <td>19.0</td>\n",
       "      <td>1022.0</td>\n",
       "      <td>7.0</td>\n",
       "      <td>8.0</td>\n",
       "      <td>10454.0</td>\n",
       "      <td>L029</td>\n",
       "      <td>...</td>\n",
       "      <td>NaN</td>\n",
       "      <td>209S016</td>\n",
       "      <td>20901.0</td>\n",
       "      <td>E-143</td>\n",
       "      <td>0.0</td>\n",
       "      <td>NaN</td>\n",
       "      <td>1</td>\n",
       "      <td>NaN</td>\n",
       "      <td>NaN</td>\n",
       "      <td>18V1</td>\n",
       "    </tr>\n",
       "    <tr>\n",
       "      <th>1</th>\n",
       "      <td>BX</td>\n",
       "      <td>2260</td>\n",
       "      <td>4</td>\n",
       "      <td>201</td>\n",
       "      <td>19.0</td>\n",
       "      <td>1022.0</td>\n",
       "      <td>7.0</td>\n",
       "      <td>8.0</td>\n",
       "      <td>10454.0</td>\n",
       "      <td>L029</td>\n",
       "      <td>...</td>\n",
       "      <td>NaN</td>\n",
       "      <td>209S016</td>\n",
       "      <td>20901.0</td>\n",
       "      <td>E-143</td>\n",
       "      <td>0.0</td>\n",
       "      <td>NaN</td>\n",
       "      <td>1</td>\n",
       "      <td>NaN</td>\n",
       "      <td>NaN</td>\n",
       "      <td>18V1</td>\n",
       "    </tr>\n",
       "    <tr>\n",
       "      <th>2</th>\n",
       "      <td>BX</td>\n",
       "      <td>2260</td>\n",
       "      <td>10</td>\n",
       "      <td>201</td>\n",
       "      <td>19.0</td>\n",
       "      <td>1022.0</td>\n",
       "      <td>7.0</td>\n",
       "      <td>8.0</td>\n",
       "      <td>10454.0</td>\n",
       "      <td>L029</td>\n",
       "      <td>...</td>\n",
       "      <td>NaN</td>\n",
       "      <td>209S016</td>\n",
       "      <td>20901.0</td>\n",
       "      <td>E-143</td>\n",
       "      <td>0.0</td>\n",
       "      <td>NaN</td>\n",
       "      <td>1</td>\n",
       "      <td>NaN</td>\n",
       "      <td>NaN</td>\n",
       "      <td>18V1</td>\n",
       "    </tr>\n",
       "    <tr>\n",
       "      <th>3</th>\n",
       "      <td>BX</td>\n",
       "      <td>2260</td>\n",
       "      <td>17</td>\n",
       "      <td>201</td>\n",
       "      <td>19.0</td>\n",
       "      <td>1022.0</td>\n",
       "      <td>7.0</td>\n",
       "      <td>8.0</td>\n",
       "      <td>10454.0</td>\n",
       "      <td>L029</td>\n",
       "      <td>...</td>\n",
       "      <td>NaN</td>\n",
       "      <td>209S016</td>\n",
       "      <td>20901.0</td>\n",
       "      <td>E-143</td>\n",
       "      <td>0.0</td>\n",
       "      <td>NaN</td>\n",
       "      <td>1</td>\n",
       "      <td>NaN</td>\n",
       "      <td>NaN</td>\n",
       "      <td>18V1</td>\n",
       "    </tr>\n",
       "    <tr>\n",
       "      <th>4</th>\n",
       "      <td>BX</td>\n",
       "      <td>2260</td>\n",
       "      <td>18</td>\n",
       "      <td>201</td>\n",
       "      <td>19.0</td>\n",
       "      <td>1022.0</td>\n",
       "      <td>7.0</td>\n",
       "      <td>8.0</td>\n",
       "      <td>10454.0</td>\n",
       "      <td>L029</td>\n",
       "      <td>...</td>\n",
       "      <td>NaN</td>\n",
       "      <td>209S016</td>\n",
       "      <td>20901.0</td>\n",
       "      <td>E-143</td>\n",
       "      <td>0.0</td>\n",
       "      <td>NaN</td>\n",
       "      <td>1</td>\n",
       "      <td>NaN</td>\n",
       "      <td>NaN</td>\n",
       "      <td>18V1</td>\n",
       "    </tr>\n",
       "  </tbody>\n",
       "</table>\n",
       "<p>5 rows × 87 columns</p>\n",
       "</div>"
      ],
      "text/plain": [
       "  Borough  Block  Lot   CD  CT2010  CB2010  SchoolDist  Council  ZipCode  \\\n",
       "0      BX   2260    1  201    19.0  1022.0         7.0      8.0  10454.0   \n",
       "1      BX   2260    4  201    19.0  1022.0         7.0      8.0  10454.0   \n",
       "2      BX   2260   10  201    19.0  1022.0         7.0      8.0  10454.0   \n",
       "3      BX   2260   17  201    19.0  1022.0         7.0      8.0  10454.0   \n",
       "4      BX   2260   18  201    19.0  1022.0         7.0      8.0  10454.0   \n",
       "\n",
       "  FireComp  ...  ZMCode  Sanborn   TaxMap  EDesigNum  APPBBL APPDate  \\\n",
       "0     L029  ...     NaN  209S016  20901.0      E-143     0.0     NaN   \n",
       "1     L029  ...     NaN  209S016  20901.0      E-143     0.0     NaN   \n",
       "2     L029  ...     NaN  209S016  20901.0      E-143     0.0     NaN   \n",
       "3     L029  ...     NaN  209S016  20901.0      E-143     0.0     NaN   \n",
       "4     L029  ...     NaN  209S016  20901.0      E-143     0.0     NaN   \n",
       "\n",
       "  PLUTOMapID FIRM07_FLAG PFIRM15_FLAG Version  \n",
       "0          1         NaN          NaN    18V1  \n",
       "1          1         NaN          NaN    18V1  \n",
       "2          1         NaN          NaN    18V1  \n",
       "3          1         NaN          NaN    18V1  \n",
       "4          1         NaN          NaN    18V1  \n",
       "\n",
       "[5 rows x 87 columns]"
      ]
     },
     "execution_count": 8,
     "metadata": {},
     "output_type": "execute_result"
    }
   ],
   "source": [
    "import types\n",
    "from botocore.client import Config\n",
    "import ibm_boto3\n",
    "\n",
    "def __iter__(self): return 0\n",
    "\n",
    "# @hidden_cell\n",
    "# The following code accesses a file in your IBM Cloud Object Storage. It includes your credentials.\n",
    "# You might want to remove those credentials before you share the notebook.\n",
    "client_cred = ibm_boto3.client(service_name='< **replace with your ibm service id**>',\n",
    "    ibm_api_key_id ='< **replace with your ibm api key id**>',\n",
    "    ibm_auth_endpoint=\"https://iam.ng.bluemix.net/oidc/token\",\n",
    "    config=Config(signature_version='oauth'),\n",
    "    endpoint_url='https://s3-api.us-geo.objectstorage.service.networklayer.com')\n",
    "\n",
    "body = client_cred.get_object(Bucket='< **replace with your ibm bucket id**>',Key='BX_18v1.csv')['Body']\n",
    "# add missing __iter__ method, so pandas accepts body as file-like object\n",
    "if not hasattr(body, \"__iter__\"): body.__iter__ = types.MethodType( __iter__, body )\n",
    "\n",
    "# If you are reading an Excel file into a pandas DataFrame, replace `read_csv` by `read_excel` in the next statement.\n",
    "bronx = pd.read_csv(body)\n",
    "bronx.head()"
   ]
  },
  {
   "cell_type": "markdown",
   "metadata": {},
   "source": [
    "### 1.4 Filterout relevant fields from Bronx dataset"
   ]
  },
  {
   "cell_type": "code",
   "execution_count": 9,
   "metadata": {},
   "outputs": [
    {
     "data": {
      "text/html": [
       "<div>\n",
       "<style scoped>\n",
       "    .dataframe tbody tr th:only-of-type {\n",
       "        vertical-align: middle;\n",
       "    }\n",
       "\n",
       "    .dataframe tbody tr th {\n",
       "        vertical-align: top;\n",
       "    }\n",
       "\n",
       "    .dataframe thead th {\n",
       "        text-align: right;\n",
       "    }\n",
       "</style>\n",
       "<table border=\"1\" class=\"dataframe\">\n",
       "  <thead>\n",
       "    <tr style=\"text-align: right;\">\n",
       "      <th></th>\n",
       "      <th>Address</th>\n",
       "      <th>BldgArea</th>\n",
       "      <th>BldgDepth</th>\n",
       "      <th>BuiltFAR</th>\n",
       "      <th>CommFAR</th>\n",
       "      <th>FacilFAR</th>\n",
       "      <th>Lot</th>\n",
       "      <th>LotArea</th>\n",
       "      <th>LotDepth</th>\n",
       "      <th>NumBldgs</th>\n",
       "      <th>NumFloors</th>\n",
       "      <th>OfficeArea</th>\n",
       "      <th>ResArea</th>\n",
       "      <th>ResidFAR</th>\n",
       "      <th>RetailArea</th>\n",
       "      <th>YearBuilt</th>\n",
       "      <th>YearAlter1</th>\n",
       "      <th>ZipCode</th>\n",
       "      <th>YCoord</th>\n",
       "      <th>XCoord</th>\n",
       "    </tr>\n",
       "  </thead>\n",
       "  <tbody>\n",
       "    <tr>\n",
       "      <th>0</th>\n",
       "      <td>122 BRUCKNER BOULEVARD</td>\n",
       "      <td>0</td>\n",
       "      <td>0.0</td>\n",
       "      <td>0.00</td>\n",
       "      <td>5.0</td>\n",
       "      <td>6.5</td>\n",
       "      <td>1</td>\n",
       "      <td>15000</td>\n",
       "      <td>200.0</td>\n",
       "      <td>1</td>\n",
       "      <td>0.0</td>\n",
       "      <td>0</td>\n",
       "      <td>0</td>\n",
       "      <td>6.02</td>\n",
       "      <td>0</td>\n",
       "      <td>0</td>\n",
       "      <td>0</td>\n",
       "      <td>10454.0</td>\n",
       "      <td>232162.0</td>\n",
       "      <td>1005957.0</td>\n",
       "    </tr>\n",
       "    <tr>\n",
       "      <th>1</th>\n",
       "      <td>126 BRUCKNER BOULEVARD</td>\n",
       "      <td>752</td>\n",
       "      <td>16.0</td>\n",
       "      <td>0.05</td>\n",
       "      <td>5.0</td>\n",
       "      <td>6.5</td>\n",
       "      <td>4</td>\n",
       "      <td>13770</td>\n",
       "      <td>100.0</td>\n",
       "      <td>2</td>\n",
       "      <td>1.0</td>\n",
       "      <td>272</td>\n",
       "      <td>0</td>\n",
       "      <td>6.02</td>\n",
       "      <td>0</td>\n",
       "      <td>1931</td>\n",
       "      <td>1994</td>\n",
       "      <td>10454.0</td>\n",
       "      <td>232156.0</td>\n",
       "      <td>1006076.0</td>\n",
       "    </tr>\n",
       "    <tr>\n",
       "      <th>2</th>\n",
       "      <td>138 BRUCKNER BOULEVARD</td>\n",
       "      <td>39375</td>\n",
       "      <td>200.0</td>\n",
       "      <td>1.13</td>\n",
       "      <td>5.0</td>\n",
       "      <td>6.5</td>\n",
       "      <td>10</td>\n",
       "      <td>35000</td>\n",
       "      <td>200.0</td>\n",
       "      <td>1</td>\n",
       "      <td>2.0</td>\n",
       "      <td>0</td>\n",
       "      <td>0</td>\n",
       "      <td>6.02</td>\n",
       "      <td>0</td>\n",
       "      <td>1931</td>\n",
       "      <td>0</td>\n",
       "      <td>10454.0</td>\n",
       "      <td>232036.0</td>\n",
       "      <td>1006187.0</td>\n",
       "    </tr>\n",
       "    <tr>\n",
       "      <th>3</th>\n",
       "      <td>144 BRUCKNER BOULEVARD</td>\n",
       "      <td>12500</td>\n",
       "      <td>85.0</td>\n",
       "      <td>5.00</td>\n",
       "      <td>5.0</td>\n",
       "      <td>6.5</td>\n",
       "      <td>17</td>\n",
       "      <td>2500</td>\n",
       "      <td>100.0</td>\n",
       "      <td>1</td>\n",
       "      <td>5.0</td>\n",
       "      <td>0</td>\n",
       "      <td>12500</td>\n",
       "      <td>6.02</td>\n",
       "      <td>0</td>\n",
       "      <td>1931</td>\n",
       "      <td>2001</td>\n",
       "      <td>10454.0</td>\n",
       "      <td>232033.0</td>\n",
       "      <td>1006299.0</td>\n",
       "    </tr>\n",
       "    <tr>\n",
       "      <th>4</th>\n",
       "      <td>148 BRUCKNER BOULEVARD</td>\n",
       "      <td>8595</td>\n",
       "      <td>70.0</td>\n",
       "      <td>4.58</td>\n",
       "      <td>5.0</td>\n",
       "      <td>6.5</td>\n",
       "      <td>18</td>\n",
       "      <td>1875</td>\n",
       "      <td>75.0</td>\n",
       "      <td>1</td>\n",
       "      <td>5.0</td>\n",
       "      <td>0</td>\n",
       "      <td>6876</td>\n",
       "      <td>6.02</td>\n",
       "      <td>1719</td>\n",
       "      <td>1920</td>\n",
       "      <td>2009</td>\n",
       "      <td>10454.0</td>\n",
       "      <td>232040.0</td>\n",
       "      <td>1006363.0</td>\n",
       "    </tr>\n",
       "  </tbody>\n",
       "</table>\n",
       "</div>"
      ],
      "text/plain": [
       "                  Address  BldgArea  BldgDepth  BuiltFAR  CommFAR  FacilFAR  \\\n",
       "0  122 BRUCKNER BOULEVARD         0        0.0      0.00      5.0       6.5   \n",
       "1  126 BRUCKNER BOULEVARD       752       16.0      0.05      5.0       6.5   \n",
       "2  138 BRUCKNER BOULEVARD     39375      200.0      1.13      5.0       6.5   \n",
       "3  144 BRUCKNER BOULEVARD     12500       85.0      5.00      5.0       6.5   \n",
       "4  148 BRUCKNER BOULEVARD      8595       70.0      4.58      5.0       6.5   \n",
       "\n",
       "   Lot  LotArea  LotDepth  NumBldgs  NumFloors  OfficeArea  ResArea  ResidFAR  \\\n",
       "0    1    15000     200.0         1        0.0           0        0      6.02   \n",
       "1    4    13770     100.0         2        1.0         272        0      6.02   \n",
       "2   10    35000     200.0         1        2.0           0        0      6.02   \n",
       "3   17     2500     100.0         1        5.0           0    12500      6.02   \n",
       "4   18     1875      75.0         1        5.0           0     6876      6.02   \n",
       "\n",
       "   RetailArea  YearBuilt  YearAlter1  ZipCode    YCoord     XCoord  \n",
       "0           0          0           0  10454.0  232162.0  1005957.0  \n",
       "1           0       1931        1994  10454.0  232156.0  1006076.0  \n",
       "2           0       1931           0  10454.0  232036.0  1006187.0  \n",
       "3           0       1931        2001  10454.0  232033.0  1006299.0  \n",
       "4        1719       1920        2009  10454.0  232040.0  1006363.0  "
      ]
     },
     "execution_count": 9,
     "metadata": {},
     "output_type": "execute_result"
    }
   ],
   "source": [
    "columns =[\"Address\", \"BldgArea\", \"BldgDepth\", \"BuiltFAR\", \"CommFAR\", \"FacilFAR\", \n",
    "          \"Lot\", \"LotArea\", \"LotDepth\", \"NumBldgs\",\n",
    "          \"NumFloors\", \"OfficeArea\", \"ResArea\", \"ResidFAR\", \n",
    "          \"RetailArea\", \"YearBuilt\", \"YearAlter1\", \"ZipCode\", \"YCoord\",  \"XCoord\"]\n",
    "bronx =bronx[columns] \n",
    "bronx.head()"
   ]
  },
  {
   "cell_type": "markdown",
   "metadata": {},
   "source": [
    "## 2. Prepare Dataset\n",
    "        1. Merge both dataset on address field\n",
    "        2. Convert status variable into categorical \n",
    "        3. Drop unnecessory features\n",
    "        4. Break into X and Y\n",
    "       "
   ]
  },
  {
   "cell_type": "markdown",
   "metadata": {},
   "source": [
    "### 2.1 Merge both dataset on address field\n",
    "\n",
    "Merge both dataset we use left join so we can use those buildings also which does not complaint yet"
   ]
  },
  {
   "cell_type": "code",
   "execution_count": 10,
   "metadata": {
    "_cell_guid": "",
    "_uuid": ""
   },
   "outputs": [
    {
     "data": {
      "text/html": [
       "<div>\n",
       "<style scoped>\n",
       "    .dataframe tbody tr th:only-of-type {\n",
       "        vertical-align: middle;\n",
       "    }\n",
       "\n",
       "    .dataframe tbody tr th {\n",
       "        vertical-align: top;\n",
       "    }\n",
       "\n",
       "    .dataframe thead th {\n",
       "        text-align: right;\n",
       "    }\n",
       "</style>\n",
       "<table border=\"1\" class=\"dataframe\">\n",
       "  <thead>\n",
       "    <tr style=\"text-align: right;\">\n",
       "      <th></th>\n",
       "      <th>Address</th>\n",
       "      <th>BldgArea</th>\n",
       "      <th>BldgDepth</th>\n",
       "      <th>BuiltFAR</th>\n",
       "      <th>CommFAR</th>\n",
       "      <th>FacilFAR</th>\n",
       "      <th>Lot</th>\n",
       "      <th>LotArea</th>\n",
       "      <th>LotDepth</th>\n",
       "      <th>NumBldgs</th>\n",
       "      <th>...</th>\n",
       "      <th>ResArea</th>\n",
       "      <th>ResidFAR</th>\n",
       "      <th>RetailArea</th>\n",
       "      <th>YearBuilt</th>\n",
       "      <th>YearAlter1</th>\n",
       "      <th>ZipCode</th>\n",
       "      <th>YCoord</th>\n",
       "      <th>XCoord</th>\n",
       "      <th>incident_address</th>\n",
       "      <th>status</th>\n",
       "    </tr>\n",
       "  </thead>\n",
       "  <tbody>\n",
       "    <tr>\n",
       "      <th>0</th>\n",
       "      <td>122 BRUCKNER BOULEVARD</td>\n",
       "      <td>0</td>\n",
       "      <td>0.0</td>\n",
       "      <td>0.00</td>\n",
       "      <td>5.0</td>\n",
       "      <td>6.5</td>\n",
       "      <td>1</td>\n",
       "      <td>15000</td>\n",
       "      <td>200.0</td>\n",
       "      <td>1</td>\n",
       "      <td>...</td>\n",
       "      <td>0</td>\n",
       "      <td>6.02</td>\n",
       "      <td>0</td>\n",
       "      <td>0</td>\n",
       "      <td>0</td>\n",
       "      <td>10454.0</td>\n",
       "      <td>232162.0</td>\n",
       "      <td>1005957.0</td>\n",
       "      <td>NaN</td>\n",
       "      <td>NaN</td>\n",
       "    </tr>\n",
       "    <tr>\n",
       "      <th>1</th>\n",
       "      <td>126 BRUCKNER BOULEVARD</td>\n",
       "      <td>752</td>\n",
       "      <td>16.0</td>\n",
       "      <td>0.05</td>\n",
       "      <td>5.0</td>\n",
       "      <td>6.5</td>\n",
       "      <td>4</td>\n",
       "      <td>13770</td>\n",
       "      <td>100.0</td>\n",
       "      <td>2</td>\n",
       "      <td>...</td>\n",
       "      <td>0</td>\n",
       "      <td>6.02</td>\n",
       "      <td>0</td>\n",
       "      <td>1931</td>\n",
       "      <td>1994</td>\n",
       "      <td>10454.0</td>\n",
       "      <td>232156.0</td>\n",
       "      <td>1006076.0</td>\n",
       "      <td>NaN</td>\n",
       "      <td>NaN</td>\n",
       "    </tr>\n",
       "    <tr>\n",
       "      <th>2</th>\n",
       "      <td>138 BRUCKNER BOULEVARD</td>\n",
       "      <td>39375</td>\n",
       "      <td>200.0</td>\n",
       "      <td>1.13</td>\n",
       "      <td>5.0</td>\n",
       "      <td>6.5</td>\n",
       "      <td>10</td>\n",
       "      <td>35000</td>\n",
       "      <td>200.0</td>\n",
       "      <td>1</td>\n",
       "      <td>...</td>\n",
       "      <td>0</td>\n",
       "      <td>6.02</td>\n",
       "      <td>0</td>\n",
       "      <td>1931</td>\n",
       "      <td>0</td>\n",
       "      <td>10454.0</td>\n",
       "      <td>232036.0</td>\n",
       "      <td>1006187.0</td>\n",
       "      <td>NaN</td>\n",
       "      <td>NaN</td>\n",
       "    </tr>\n",
       "    <tr>\n",
       "      <th>3</th>\n",
       "      <td>144 BRUCKNER BOULEVARD</td>\n",
       "      <td>12500</td>\n",
       "      <td>85.0</td>\n",
       "      <td>5.00</td>\n",
       "      <td>5.0</td>\n",
       "      <td>6.5</td>\n",
       "      <td>17</td>\n",
       "      <td>2500</td>\n",
       "      <td>100.0</td>\n",
       "      <td>1</td>\n",
       "      <td>...</td>\n",
       "      <td>12500</td>\n",
       "      <td>6.02</td>\n",
       "      <td>0</td>\n",
       "      <td>1931</td>\n",
       "      <td>2001</td>\n",
       "      <td>10454.0</td>\n",
       "      <td>232033.0</td>\n",
       "      <td>1006299.0</td>\n",
       "      <td>144 BRUCKNER BOULEVARD</td>\n",
       "      <td>Closed</td>\n",
       "    </tr>\n",
       "    <tr>\n",
       "      <th>4</th>\n",
       "      <td>144 BRUCKNER BOULEVARD</td>\n",
       "      <td>12500</td>\n",
       "      <td>85.0</td>\n",
       "      <td>5.00</td>\n",
       "      <td>5.0</td>\n",
       "      <td>6.5</td>\n",
       "      <td>17</td>\n",
       "      <td>2500</td>\n",
       "      <td>100.0</td>\n",
       "      <td>1</td>\n",
       "      <td>...</td>\n",
       "      <td>12500</td>\n",
       "      <td>6.02</td>\n",
       "      <td>0</td>\n",
       "      <td>1931</td>\n",
       "      <td>2001</td>\n",
       "      <td>10454.0</td>\n",
       "      <td>232033.0</td>\n",
       "      <td>1006299.0</td>\n",
       "      <td>144 BRUCKNER BOULEVARD</td>\n",
       "      <td>Closed</td>\n",
       "    </tr>\n",
       "  </tbody>\n",
       "</table>\n",
       "<p>5 rows × 22 columns</p>\n",
       "</div>"
      ],
      "text/plain": [
       "                  Address  BldgArea  BldgDepth  BuiltFAR  CommFAR  FacilFAR  \\\n",
       "0  122 BRUCKNER BOULEVARD         0        0.0      0.00      5.0       6.5   \n",
       "1  126 BRUCKNER BOULEVARD       752       16.0      0.05      5.0       6.5   \n",
       "2  138 BRUCKNER BOULEVARD     39375      200.0      1.13      5.0       6.5   \n",
       "3  144 BRUCKNER BOULEVARD     12500       85.0      5.00      5.0       6.5   \n",
       "4  144 BRUCKNER BOULEVARD     12500       85.0      5.00      5.0       6.5   \n",
       "\n",
       "   Lot  LotArea  LotDepth  NumBldgs  ...  ResArea  ResidFAR  RetailArea  \\\n",
       "0    1    15000     200.0         1  ...        0      6.02           0   \n",
       "1    4    13770     100.0         2  ...        0      6.02           0   \n",
       "2   10    35000     200.0         1  ...        0      6.02           0   \n",
       "3   17     2500     100.0         1  ...    12500      6.02           0   \n",
       "4   17     2500     100.0         1  ...    12500      6.02           0   \n",
       "\n",
       "   YearBuilt  YearAlter1  ZipCode    YCoord     XCoord  \\\n",
       "0          0           0  10454.0  232162.0  1005957.0   \n",
       "1       1931        1994  10454.0  232156.0  1006076.0   \n",
       "2       1931           0  10454.0  232036.0  1006187.0   \n",
       "3       1931        2001  10454.0  232033.0  1006299.0   \n",
       "4       1931        2001  10454.0  232033.0  1006299.0   \n",
       "\n",
       "         incident_address  status  \n",
       "0                     NaN     NaN  \n",
       "1                     NaN     NaN  \n",
       "2                     NaN     NaN  \n",
       "3  144 BRUCKNER BOULEVARD  Closed  \n",
       "4  144 BRUCKNER BOULEVARD  Closed  \n",
       "\n",
       "[5 rows x 22 columns]"
      ]
     },
     "execution_count": 10,
     "metadata": {},
     "output_type": "execute_result"
    }
   ],
   "source": [
    "df_address = df_heat[[\"incident_address\",\"status\"]]\n",
    "df_merge = bronx.merge(df_address, \n",
    "               left_on='Address', right_on='incident_address' ,how='left')\n",
    "df_merge.head()"
   ]
  },
  {
   "cell_type": "markdown",
   "metadata": {},
   "source": [
    "###  2.2 Convert status variable into categorical \n",
    "\n",
    "Here we change the Closed and Open satus to 1 and if no complain then convert it to 0 to classify \n"
   ]
  },
  {
   "cell_type": "code",
   "execution_count": 11,
   "metadata": {},
   "outputs": [],
   "source": [
    "dict1 = {'Closed': 1 ,'Open':1 }\n",
    "df_merge['status']=df_merge['status'].map(dict1) \n",
    "df_merge['status'] = df_merge['status'].fillna(0)"
   ]
  },
  {
   "cell_type": "code",
   "execution_count": 12,
   "metadata": {},
   "outputs": [
    {
     "data": {
      "text/plain": [
       "array([0., 1.])"
      ]
     },
     "execution_count": 12,
     "metadata": {},
     "output_type": "execute_result"
    }
   ],
   "source": [
    "df_merge['status'].unique() "
   ]
  },
  {
   "cell_type": "markdown",
   "metadata": {},
   "source": [
    "### 2.3 Drop unnecessary features\n",
    "\n",
    "This is based on results obtained from question 3."
   ]
  },
  {
   "cell_type": "code",
   "execution_count": 13,
   "metadata": {},
   "outputs": [],
   "source": [
    "# drop columns which did not give any information from question 3\n",
    "drop_column = [\"ZipCode\" ,\"CommFAR\" ,\"status\" , \"incident_address\",\"Address\" ,\"NumBldgs\"]\n",
    "y = df_merge[\"status\"]      \n",
    "x = df_merge.drop(drop_column,axis = 1 )"
   ]
  },
  {
   "cell_type": "markdown",
   "metadata": {},
   "source": [
    "###  2.4 Break into X and Y\n",
    "\n",
    "since we need to train a model"
   ]
  },
  {
   "cell_type": "code",
   "execution_count": 14,
   "metadata": {},
   "outputs": [],
   "source": [
    "y = df_merge[\"status\"]      \n",
    "x = df_merge.drop(drop_column,axis = 1 )\n",
    "x= x.fillna(0)"
   ]
  },
  {
   "cell_type": "markdown",
   "metadata": {},
   "source": [
    "## 3. Split Train and Test Data"
   ]
  },
  {
   "cell_type": "code",
   "execution_count": 15,
   "metadata": {},
   "outputs": [],
   "source": [
    "from sklearn.model_selection import train_test_split\n",
    "from sklearn.ensemble import RandomForestClassifier\n",
    "from sklearn.metrics import f1_score,confusion_matrix\n",
    "from sklearn.metrics import accuracy_score,recall_score\n",
    "from xgboost import XGBClassifier\n",
    " \n",
    "#Split train and test data\n",
    "x_train, x_test, y_train, y_test = train_test_split(x, y, test_size=0.3, random_state=0)"
   ]
  },
  {
   "cell_type": "markdown",
   "metadata": {},
   "source": [
    "## 4. Train the model Using Xgboost classifier"
   ]
  },
  {
   "cell_type": "code",
   "execution_count": 16,
   "metadata": {},
   "outputs": [
    {
     "name": "stdout",
     "output_type": "stream",
     "text": [
      "Accuracy: 94.23%\n"
     ]
    }
   ],
   "source": [
    "#instantiate model and train\n",
    "XGB = XGBClassifier(learning_rate = 0.05, n_estimators=300, max_depth=5)\n",
    "XGB.fit(x_train, y_train)\n",
    "\n",
    "#make predictions for test set\n",
    "y_pred = XGB.predict(x_test)\n",
    "predictions = [round(value) for value in y_pred]\n",
    "\n",
    "#check accuracy score\n",
    "accuracy = accuracy_score(y_test, predictions)\n",
    "print(\"Accuracy: %.2f%%\" % (accuracy * 100.0))"
   ]
  },
  {
   "cell_type": "code",
   "execution_count": 26,
   "metadata": {},
   "outputs": [
    {
     "data": {
      "text/plain": [
       "array([[20100,  2753],\n",
       "       [ 3734, 85773]])"
      ]
     },
     "execution_count": 26,
     "metadata": {},
     "output_type": "execute_result"
    }
   ],
   "source": [
    "#confusion matrix\n",
    "cma = confusion_matrix(y_test,predictions)\n",
    "cma"
   ]
  },
  {
   "cell_type": "code",
   "execution_count": 35,
   "metadata": {},
   "outputs": [
    {
     "data": {
      "image/png": "[encoded data removed]",
      "text/plain": [
       "<Figure size 576x432 with 2 Axes>"
      ]
     },
     "metadata": {
      "needs_background": "light"
     },
     "output_type": "display_data"
    }
   ],
   "source": [
    "#Visualize confusion matrix\n",
    "plt.figure(figsize=(8,6))\n",
    "sns.heatmap(cma, cmap=plt.cm.Blues)\n",
    "plt.title('XGBoost Confusion Matrix')\n",
    "plt.ylabel('True label')\n",
    "plt.xlabel('Predicted label')\n",
    "plt.show()"
   ]
  },
  {
   "cell_type": "markdown",
   "metadata": {},
   "source": [
    "## 5. Using Random Forest Classifier\n"
   ]
  },
  {
   "cell_type": "code",
   "execution_count": 18,
   "metadata": {},
   "outputs": [],
   "source": [
    "#instantiate random forest model \n",
    "rclf = RandomForestClassifier()"
   ]
  },
  {
   "cell_type": "code",
   "execution_count": 19,
   "metadata": {},
   "outputs": [
    {
     "name": "stderr",
     "output_type": "stream",
     "text": [
      "/opt/conda/envs/Python36/lib/python3.6/site-packages/sklearn/ensemble/forest.py:246: FutureWarning: The default value of n_estimators will change from 10 in version 0.20 to 100 in 0.22.\n",
      "  \"10 in version 0.20 to 100 in 0.22.\", FutureWarning)\n"
     ]
    },
    {
     "data": {
      "text/plain": [
       "RandomForestClassifier(bootstrap=True, class_weight=None, criterion='gini',\n",
       "            max_depth=None, max_features='auto', max_leaf_nodes=None,\n",
       "            min_impurity_decrease=0.0, min_impurity_split=None,\n",
       "            min_samples_leaf=1, min_samples_split=2,\n",
       "            min_weight_fraction_leaf=0.0, n_estimators=10, n_jobs=None,\n",
       "            oob_score=False, random_state=None, verbose=0,\n",
       "            warm_start=False)"
      ]
     },
     "execution_count": 19,
     "metadata": {},
     "output_type": "execute_result"
    }
   ],
   "source": [
    "#train the model\n",
    "rclf.fit(x_train,y_train)"
   ]
  },
  {
   "cell_type": "code",
   "execution_count": 21,
   "metadata": {},
   "outputs": [
    {
     "name": "stdout",
     "output_type": "stream",
     "text": [
      "Accuracy: 97.70%\n",
      "Recall: 98.58%\n"
     ]
    },
    {
     "data": {
      "text/plain": [
       "array([[21538,  1315],\n",
       "       [ 1269, 88238]])"
      ]
     },
     "execution_count": 21,
     "metadata": {},
     "output_type": "execute_result"
    }
   ],
   "source": [
    "#Predict \n",
    "y_pred = rclf.predict(x_test)\n",
    "\n",
    "#check accuracy score \n",
    "acc = accuracy_score(y_test, y_pred)\n",
    "print(\"Accuracy: %.2f%%\" % (acc * 100.0))\n",
    "\n",
    "#check recall score\n",
    "recall = recall_score(y_test,y_pred)\n",
    "print(\"Recall: %.2f%%\" % (recall * 100.0))\n",
    "\n",
    "#print confusion matrix\n",
    "cm = confusion_matrix(y_test,y_pred)\n",
    "cm"
   ]
  },
  {
   "cell_type": "code",
   "execution_count": 36,
   "metadata": {},
   "outputs": [
    {
     "data": {
      "image/png": "[encoded data removed]",
      "text/plain": [
       "<Figure size 576x432 with 2 Axes>"
      ]
     },
     "metadata": {
      "needs_background": "light"
     },
     "output_type": "display_data"
    }
   ],
   "source": [
    "#Visualize confusion matrix\n",
    "plt.figure(figsize=(8,6))\n",
    "sns.heatmap(cm, cmap=plt.cm.Reds)\n",
    "plt.title('Random Forest Confusion Matrix')\n",
    "plt.ylabel('True label')\n",
    "plt.xlabel('Predicted label')\n",
    "plt.show()"
   ]
  },
  {
   "cell_type": "markdown",
   "metadata": {},
   "source": [
    "## 6. Logistic Regression"
   ]
  },
  {
   "cell_type": "code",
   "execution_count": 22,
   "metadata": {},
   "outputs": [
    {
     "name": "stderr",
     "output_type": "stream",
     "text": [
      "/opt/conda/envs/Python36/lib/python3.6/site-packages/sklearn/linear_model/logistic.py:433: FutureWarning: Default solver will be changed to 'lbfgs' in 0.22. Specify a solver to silence this warning.\n",
      "  FutureWarning)\n"
     ]
    },
    {
     "data": {
      "text/plain": [
       "LogisticRegression(C=1.0, class_weight=None, dual=False, fit_intercept=True,\n",
       "          intercept_scaling=1, max_iter=100, multi_class='warn',\n",
       "          n_jobs=None, penalty='l2', random_state=None, solver='warn',\n",
       "          tol=0.0001, verbose=0, warm_start=False)"
      ]
     },
     "execution_count": 22,
     "metadata": {},
     "output_type": "execute_result"
    }
   ],
   "source": [
    "from sklearn.linear_model import LogisticRegression\n",
    "\n",
    "#instantiate logistic regression model\n",
    "log= LogisticRegression()\n",
    "\n",
    "#train the model\n",
    "log.fit(x_train, y_train)"
   ]
  },
  {
   "cell_type": "code",
   "execution_count": 23,
   "metadata": {},
   "outputs": [
    {
     "name": "stdout",
     "output_type": "stream",
     "text": [
      "Accuracy: 90.49%\n",
      "Recall: 89.80%\n"
     ]
    },
    {
     "data": {
      "text/plain": [
       "array([[21292,  1561],\n",
       "       [ 9126, 80381]])"
      ]
     },
     "execution_count": 23,
     "metadata": {},
     "output_type": "execute_result"
    }
   ],
   "source": [
    "#Predict \n",
    "y_prediction = log.predict(x_test)\n",
    "\n",
    "#check accuracy score \n",
    "accura = accuracy_score(y_test, y_prediction)\n",
    "print(\"Accuracy: %.2f%%\" % (accura * 100.0))\n",
    "\n",
    "#check recall score\n",
    "reca = recall_score(y_test,y_prediction)\n",
    "print(\"Recall: %.2f%%\" % (reca * 100.0))\n",
    "\n",
    "#print confusion matrix\n",
    "cmx = confusion_matrix(y_test,y_prediction)\n",
    "cmx"
   ]
  },
  {
   "cell_type": "code",
   "execution_count": 37,
   "metadata": {},
   "outputs": [
    {
     "data": {
      "image/png": "[encoded data removed]",
      "text/plain": [
       "<Figure size 576x432 with 2 Axes>"
      ]
     },
     "metadata": {
      "needs_background": "light"
     },
     "output_type": "display_data"
    }
   ],
   "source": [
    "#Visualize Logistic model confusion matrix\n",
    "plt.figure(figsize=(8,6))\n",
    "sns.heatmap(cmx, cmap=plt.cm.Blues)\n",
    "plt.title('Logistic Regression Confusion Matrix')\n",
    "plt.ylabel('True label')\n",
    "plt.xlabel('Predicted label')\n",
    "plt.show()"
   ]
  },
  {
   "cell_type": "markdown",
   "metadata": {},
   "source": [
    "### Conclusion\n",
    "\n",
    "To conclude, we have explore three different models. All of them provided us a good accuracy score.\n",
    "However, the Random Forest model performed better than XGBoost and Logistic Regression.\n",
    "The prediction accuracy for random forest model is of 97.70% as opposed to Logistic regression with 90.49% accuracy.\n",
    "\n",
    "With these models, we are able to predict future HEAT/HOT WATER complaints with confidence."
   ]
  },
  {
   "cell_type": "markdown",
   "metadata": {},
   "source": [
    "#### Future Work\n",
    "A time series analysis or forecast model could have been used as well to predict the number of calls that could be received."
   ]
  }
 ],
 "metadata": {
  "kernelspec": {
   "display_name": "Python 3.6",
   "language": "python",
   "name": "python3"
  },
  "language_info": {
   "codemirror_mode": {
    "name": "ipython",
    "version": 3
   },
   "file_extension": ".py",
   "mimetype": "text/x-python",
   "name": "python",
   "nbconvert_exporter": "python",
   "pygments_lexer": "ipython3",
   "version": "3.6.8"
  }
 },
 "nbformat": 4,
 "nbformat_minor": 1
}
